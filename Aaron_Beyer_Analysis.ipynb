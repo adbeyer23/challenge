{
 "cells": [
  {
   "cell_type": "code",
   "execution_count": 1,
   "metadata": {
    "ExecuteTime": {
     "end_time": "2017-12-15T12:39:49.205025Z",
     "start_time": "2017-12-15T12:39:46.965100Z"
    },
    "collapsed": true
   },
   "outputs": [],
   "source": [
    "import pandas as pd"
   ]
  },
  {
   "cell_type": "code",
   "execution_count": 38,
   "metadata": {
    "ExecuteTime": {
     "end_time": "2017-12-15T15:07:12.919760Z",
     "start_time": "2017-12-15T15:07:12.637084Z"
    },
    "collapsed": true
   },
   "outputs": [],
   "source": [
    "data = pd.read_clipboard()"
   ]
  },
  {
   "cell_type": "code",
   "execution_count": 39,
   "metadata": {
    "ExecuteTime": {
     "end_time": "2017-12-15T15:07:13.074764Z",
     "start_time": "2017-12-15T15:07:13.053074Z"
    },
    "collapsed": false
   },
   "outputs": [
    {
     "data": {
      "text/html": [
       "<div>\n",
       "<style>\n",
       "    .dataframe thead tr:only-child th {\n",
       "        text-align: right;\n",
       "    }\n",
       "\n",
       "    .dataframe thead th {\n",
       "        text-align: left;\n",
       "    }\n",
       "\n",
       "    .dataframe tbody tr th {\n",
       "        vertical-align: top;\n",
       "    }\n",
       "</style>\n",
       "<table border=\"1\" class=\"dataframe\">\n",
       "  <thead>\n",
       "    <tr style=\"text-align: right;\">\n",
       "      <th></th>\n",
       "      <th>Account manager</th>\n",
       "      <th>Client Name</th>\n",
       "      <th>Date of Contact</th>\n",
       "    </tr>\n",
       "  </thead>\n",
       "  <tbody>\n",
       "    <tr>\n",
       "      <th>0</th>\n",
       "      <td>Milan Crona</td>\n",
       "      <td>Wyman, Farrell and Haag</td>\n",
       "      <td>2015-10-31</td>\n",
       "    </tr>\n",
       "    <tr>\n",
       "      <th>1</th>\n",
       "      <td>Aidan Pouros</td>\n",
       "      <td>Veum, McClure and Schuster</td>\n",
       "      <td>2013-12-07</td>\n",
       "    </tr>\n",
       "    <tr>\n",
       "      <th>2</th>\n",
       "      <td>Milan Crona</td>\n",
       "      <td>Armstrong Group</td>\n",
       "      <td>2013-11-02</td>\n",
       "    </tr>\n",
       "    <tr>\n",
       "      <th>3</th>\n",
       "      <td>Aidan Pouros</td>\n",
       "      <td>Lueilwitz, Moore and Hahn</td>\n",
       "      <td>2013-12-25</td>\n",
       "    </tr>\n",
       "    <tr>\n",
       "      <th>4</th>\n",
       "      <td>Chauncey Dach</td>\n",
       "      <td>Abbott Group</td>\n",
       "      <td>2016-03-21</td>\n",
       "    </tr>\n",
       "  </tbody>\n",
       "</table>\n",
       "</div>"
      ],
      "text/plain": [
       "  Account manager                 Client Name Date of Contact\n",
       "0     Milan Crona     Wyman, Farrell and Haag      2015-10-31\n",
       "1    Aidan Pouros  Veum, McClure and Schuster      2013-12-07\n",
       "2     Milan Crona             Armstrong Group      2013-11-02\n",
       "3    Aidan Pouros   Lueilwitz, Moore and Hahn      2013-12-25\n",
       "4   Chauncey Dach                Abbott Group      2016-03-21"
      ]
     },
     "execution_count": 39,
     "metadata": {},
     "output_type": "execute_result"
    }
   ],
   "source": [
    "#Looks like the data was loaded correctly:\n",
    "data.head()"
   ]
  },
  {
   "cell_type": "code",
   "execution_count": 40,
   "metadata": {
    "ExecuteTime": {
     "end_time": "2017-12-15T15:07:26.279521Z",
     "start_time": "2017-12-15T15:07:26.263396Z"
    },
    "collapsed": false
   },
   "outputs": [
    {
     "data": {
      "text/plain": [
       "(1000, 3)"
      ]
     },
     "execution_count": 40,
     "metadata": {},
     "output_type": "execute_result"
    }
   ],
   "source": [
    "#Let's see the amount of rows and columns in the data\n",
    "data.shape"
   ]
  },
  {
   "cell_type": "code",
   "execution_count": 7,
   "metadata": {
    "ExecuteTime": {
     "end_time": "2017-12-15T12:40:29.653815Z",
     "start_time": "2017-12-15T12:40:29.644508Z"
    },
    "collapsed": false
   },
   "outputs": [
    {
     "data": {
      "text/plain": [
       "Account manager    object\n",
       "Client Name        object\n",
       "Date of Contact    object\n",
       "dtype: object"
      ]
     },
     "execution_count": 7,
     "metadata": {},
     "output_type": "execute_result"
    }
   ],
   "source": [
    "#Let's see what type of data we are working with\n",
    "data.dtypes"
   ]
  },
  {
   "cell_type": "code",
   "execution_count": 35,
   "metadata": {
    "ExecuteTime": {
     "end_time": "2017-12-15T15:05:38.511608Z",
     "start_time": "2017-12-15T15:05:38.493364Z"
    },
    "collapsed": false
   },
   "outputs": [
    {
     "data": {
      "text/plain": [
       "array(['Wyman, Farrell and Haag', 'Veum, McClure and Schuster',\n",
       "       'Armstrong Group', 'Lueilwitz, Moore and Hahn', 'Abbott Group',\n",
       "       'Oga, Gottlieb and Cruickshank', 'Fahey, Wunsch and Bashirian',\n",
       "       'Bosco-Ortiz', 'Ondricka-Wolff', 'Anderson, Kutch and Hyatt',\n",
       "       'Mitchell and Sons', 'Brown, Wyman and Grimes', 'Cormier LLC',\n",
       "       'Stamm-Crooks', 'Hauck Group', 'Johnston-Schaden', 'Walter Inc',\n",
       "       'Hoppe-Batz', 'Denesik, Stehr and Carter', 'Eichmann and Sons',\n",
       "       'Sanford and Sons', 'Kuhic, Stark and Kreiger',\n",
       "       'Kris, Shanahan and Quigley', 'Koss Inc', 'Halvorson LLC',\n",
       "       'Franecki-Feil', 'Donnelly-Champlin', 'Lemke-Pfannerstill',\n",
       "       'Lindgren, Graham and Spinka', 'Medhurst, Ankunding and Wolff',\n",
       "       'Trantow Inc', 'Thompson, Howell and Hegmann', 'Hagenes Inc',\n",
       "       \"Orn, Russel and O'Reilly\", 'Hermiston, Armstrong and Balistreri'], dtype=object)"
      ]
     },
     "execution_count": 35,
     "metadata": {},
     "output_type": "execute_result"
    }
   ],
   "source": [
    "#let's look at all the unique clients and see if there are any typos\n",
    "data[\"Client Name\"].unique()"
   ]
  },
  {
   "cell_type": "code",
   "execution_count": 41,
   "metadata": {
    "ExecuteTime": {
     "end_time": "2017-12-15T15:08:59.535548Z",
     "start_time": "2017-12-15T15:08:59.524157Z"
    },
    "collapsed": false
   },
   "outputs": [
    {
     "data": {
      "text/plain": [
       "35"
      ]
     },
     "execution_count": 41,
     "metadata": {},
     "output_type": "execute_result"
    }
   ],
   "source": [
    "#No typos, so let's save the amount of unique clients in a variable\n",
    "unique_clients = len(data[\"Client Name\"].unique()) ; unique_clients"
   ]
  },
  {
   "cell_type": "code",
   "execution_count": 42,
   "metadata": {
    "ExecuteTime": {
     "end_time": "2017-12-15T15:09:00.351439Z",
     "start_time": "2017-12-15T15:09:00.314353Z"
    },
    "collapsed": true
   },
   "outputs": [],
   "source": [
    "#We need to turn the date into a datetime so we can easily manipulate it\n",
    "data[\"Date of Contact\"] = pd.to_datetime(data[\"Date of Contact\"])"
   ]
  },
  {
   "cell_type": "code",
   "execution_count": 46,
   "metadata": {
    "ExecuteTime": {
     "end_time": "2017-12-15T15:09:44.309593Z",
     "start_time": "2017-12-15T15:09:44.250435Z"
    },
    "collapsed": false
   },
   "outputs": [
    {
     "data": {
      "text/html": [
       "<div>\n",
       "<style>\n",
       "    .dataframe thead tr:only-child th {\n",
       "        text-align: right;\n",
       "    }\n",
       "\n",
       "    .dataframe thead th {\n",
       "        text-align: left;\n",
       "    }\n",
       "\n",
       "    .dataframe tbody tr th {\n",
       "        vertical-align: top;\n",
       "    }\n",
       "</style>\n",
       "<table border=\"1\" class=\"dataframe\">\n",
       "  <thead>\n",
       "    <tr style=\"text-align: right;\">\n",
       "      <th></th>\n",
       "      <th>Account manager</th>\n",
       "      <th>Client Name</th>\n",
       "      <th>Date of Contact</th>\n",
       "      <th>Month</th>\n",
       "      <th>Year</th>\n",
       "    </tr>\n",
       "  </thead>\n",
       "  <tbody>\n",
       "    <tr>\n",
       "      <th>0</th>\n",
       "      <td>Milan Crona</td>\n",
       "      <td>Wyman, Farrell and Haag</td>\n",
       "      <td>2015-10-31</td>\n",
       "      <td>10</td>\n",
       "      <td>2015</td>\n",
       "    </tr>\n",
       "    <tr>\n",
       "      <th>1</th>\n",
       "      <td>Aidan Pouros</td>\n",
       "      <td>Veum, McClure and Schuster</td>\n",
       "      <td>2013-12-07</td>\n",
       "      <td>12</td>\n",
       "      <td>2013</td>\n",
       "    </tr>\n",
       "    <tr>\n",
       "      <th>2</th>\n",
       "      <td>Milan Crona</td>\n",
       "      <td>Armstrong Group</td>\n",
       "      <td>2013-11-02</td>\n",
       "      <td>11</td>\n",
       "      <td>2013</td>\n",
       "    </tr>\n",
       "    <tr>\n",
       "      <th>3</th>\n",
       "      <td>Aidan Pouros</td>\n",
       "      <td>Lueilwitz, Moore and Hahn</td>\n",
       "      <td>2013-12-25</td>\n",
       "      <td>12</td>\n",
       "      <td>2013</td>\n",
       "    </tr>\n",
       "    <tr>\n",
       "      <th>4</th>\n",
       "      <td>Chauncey Dach</td>\n",
       "      <td>Abbott Group</td>\n",
       "      <td>2016-03-21</td>\n",
       "      <td>3</td>\n",
       "      <td>2016</td>\n",
       "    </tr>\n",
       "  </tbody>\n",
       "</table>\n",
       "</div>"
      ],
      "text/plain": [
       "  Account manager                 Client Name Date of Contact  Month  Year\n",
       "0     Milan Crona     Wyman, Farrell and Haag      2015-10-31     10  2015\n",
       "1    Aidan Pouros  Veum, McClure and Schuster      2013-12-07     12  2013\n",
       "2     Milan Crona             Armstrong Group      2013-11-02     11  2013\n",
       "3    Aidan Pouros   Lueilwitz, Moore and Hahn      2013-12-25     12  2013\n",
       "4   Chauncey Dach                Abbott Group      2016-03-21      3  2016"
      ]
     },
     "execution_count": 46,
     "metadata": {},
     "output_type": "execute_result"
    }
   ],
   "source": [
    "#Let's make a month and year column for easy data manipulation and make\n",
    "#sure everything worked correctly\n",
    "data[\"Month\"] = data[\"Date of Contact\"].dt.month\n",
    "data[\"Year\"] = data[\"Date of Contact\"].dt.year\n",
    "data.head()\n",
    "\n"
   ]
  },
  {
   "cell_type": "code",
   "execution_count": 47,
   "metadata": {
    "ExecuteTime": {
     "end_time": "2017-12-15T15:09:45.758011Z",
     "start_time": "2017-12-15T15:09:45.746014Z"
    },
    "collapsed": false
   },
   "outputs": [],
   "source": [
    "#Now let's group by month and year to find the percentage of clients\n",
    "#contacted per month\n",
    "grouped_year_month =data.groupby([\"Month\", \"Year\"])[\"Client Name\"].nunique() / unique_clients\n"
   ]
  },
  {
   "cell_type": "code",
   "execution_count": 48,
   "metadata": {
    "ExecuteTime": {
     "end_time": "2017-12-15T15:09:46.066100Z",
     "start_time": "2017-12-15T15:09:46.052555Z"
    },
    "collapsed": false
   },
   "outputs": [
    {
     "data": {
      "text/plain": [
       "Month  Year\n",
       "1      2014    0.257143\n",
       "       2015    0.400000\n",
       "       2016    0.428571\n",
       "       2017    0.342857\n",
       "2      2014    0.314286\n",
       "       2015    0.428571\n",
       "       2016    0.400000\n",
       "       2017    0.371429\n",
       "3      2014    0.314286\n",
       "       2015    0.342857\n",
       "       2016    0.428571\n",
       "       2017    0.285714\n",
       "4      2014    0.314286\n",
       "       2015    0.342857\n",
       "       2016    0.314286\n",
       "       2017    0.257143\n",
       "5      2014    0.342857\n",
       "       2015    0.457143\n",
       "       2016    0.400000\n",
       "       2017    0.371429\n",
       "6      2014    0.542857\n",
       "       2015    0.400000\n",
       "       2016    0.428571\n",
       "       2017    0.371429\n",
       "7      2014    0.428571\n",
       "       2015    0.428571\n",
       "       2016    0.314286\n",
       "       2017    0.314286\n",
       "8      2014    0.485714\n",
       "       2015    0.428571\n",
       "       2016    0.400000\n",
       "       2017    0.371429\n",
       "9      2014    0.657143\n",
       "       2015    0.514286\n",
       "       2016    0.542857\n",
       "       2017    0.600000\n",
       "10     2013    0.885714\n",
       "       2014    0.800000\n",
       "       2015    0.800000\n",
       "       2016    0.714286\n",
       "11     2013    0.342857\n",
       "       2014    0.428571\n",
       "       2015    0.285714\n",
       "       2016    0.342857\n",
       "12     2013    0.428571\n",
       "       2014    0.428571\n",
       "       2015    0.400000\n",
       "       2016    0.485714\n",
       "Name: Client Name, dtype: float64"
      ]
     },
     "execution_count": 48,
     "metadata": {},
     "output_type": "execute_result"
    }
   ],
   "source": [
    "grouped_year_month"
   ]
  },
  {
   "cell_type": "code",
   "execution_count": 49,
   "metadata": {
    "ExecuteTime": {
     "end_time": "2017-12-15T15:10:02.186405Z",
     "start_time": "2017-12-15T15:10:02.173555Z"
    },
    "collapsed": false
   },
   "outputs": [
    {
     "data": {
      "text/plain": [
       "Month\n",
       "10    0.800000\n",
       "9     0.578571\n",
       "12    0.435714\n",
       "6     0.435714\n",
       "8     0.421429\n",
       "5     0.392857\n",
       "2     0.378571\n",
       "7     0.371429\n",
       "1     0.357143\n",
       "11    0.350000\n",
       "3     0.342857\n",
       "4     0.307143\n",
       "Name: Client Name, dtype: float64"
      ]
     },
     "execution_count": 49,
     "metadata": {},
     "output_type": "execute_result"
    }
   ],
   "source": [
    "#Now let's take an average over every year\n",
    "grouped_year_month.groupby(\"Month\").mean().sort_values(ascending=False)"
   ]
  },
  {
   "cell_type": "markdown",
   "metadata": {},
   "source": [
    "Looks like the highest average percentage of clients contacted per month is October."
   ]
  }
 ],
 "metadata": {
  "kernelspec": {
   "display_name": "Python [conda root]",
   "language": "python",
   "name": "conda-root-py"
  },
  "language_info": {
   "codemirror_mode": {
    "name": "ipython",
    "version": 3
   },
   "file_extension": ".py",
   "mimetype": "text/x-python",
   "name": "python",
   "nbconvert_exporter": "python",
   "pygments_lexer": "ipython3",
   "version": "3.5.2"
  }
 },
 "nbformat": 4,
 "nbformat_minor": 2
}
